{
 "cells": [
  {
   "cell_type": "markdown",
   "id": "fe0eb122",
   "metadata": {},
   "source": [
    "# Random Forest model for Deepfake_Text_Detect"
   ]
  },
  {
   "cell_type": "markdown",
   "id": "8ccfbe23",
   "metadata": {},
   "source": [
    "This notebook consists of the code for the training and evaluation of a **random forest classifier** for a subset of deepfake text detection on the benchmark dataset Deepfake_Text_Detect obtained from the url: https://huggingface.co/datasets/yaful/DeepfakeTextDetect\n",
    "\n",
    "The Dataset consists of 1,13,611 samples with a distribution of:\n",
    "* Deepfake text samples: 56,071 (49.39 %)\n",
    "* Human text samples: 57,540 (50.61 %)\n",
    "\n",
    "**The model trained in here is very basic and more optimiztions by tokenizations, Linguistic Parameters, etc. needs to be added so as to make the model more accurate and powerful. It also will be trained on a larger dataset in conjunction to this so as to increase the accuracy as well as other parameters of the model.**"
   ]
  },
  {
   "cell_type": "markdown",
   "id": "1d18d8e1",
   "metadata": {},
   "source": [
    "## 1. Importing the required libraries"
   ]
  },
  {
   "cell_type": "code",
   "execution_count": null,
   "id": "f32f7273",
   "metadata": {},
   "outputs": [],
   "source": [
    "import numpy as np\n",
    "import pandas as pd\n",
    "import matplotlib.pyplot as plt\n",
    "import seaborn as sns\n",
    "import pickle as pkl\n",
    "import nltk\n",
    "from nltk.corpus import stopwords\n",
    "from sklearn.ensemble import RandomForestClassifier\n",
    "from sklearn.feature_extraction.text import TfidfTransformer, CountVectorizer, TfidfVectorizer\n",
    "from sklearn.pipeline import Pipeline\n",
    "from sklearn.metrics import confusion_matrix, classification_report, accuracy_score\n",
    "from sklearn.metrics import roc_curve, roc_auc_score, RocCurveDisplay\n",
    "from sklearn.model_selection import train_test_split, learning_curve, validation_curve\n",
    "from sklearn.model_selection import LearningCurveDisplay, ValidationCurveDisplay\n",
    "import string\n",
    "import itertools\n",
    "import warnings"
   ]
  }
 ],
 "metadata": {
  "kernelspec": {
   "display_name": "Python 3 (ipykernel)",
   "language": "python",
   "name": "python3"
  },
  "language_info": {
   "codemirror_mode": {
    "name": "ipython",
    "version": 3
   },
   "file_extension": ".py",
   "mimetype": "text/x-python",
   "name": "python",
   "nbconvert_exporter": "python",
   "pygments_lexer": "ipython3",
   "version": "3.10.9"
  }
 },
 "nbformat": 4,
 "nbformat_minor": 5
}
